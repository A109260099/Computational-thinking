{
  "nbformat": 4,
  "nbformat_minor": 0,
  "metadata": {
    "colab": {
      "name": "王柏智week9-1.ipynb",
      "provenance": [],
      "authorship_tag": "ABX9TyNC8XtHXNGw1FImAgPEWbGH",
      "include_colab_link": true
    },
    "kernelspec": {
      "name": "python3",
      "display_name": "Python 3"
    }
  },
  "cells": [
    {
      "cell_type": "markdown",
      "metadata": {
        "id": "view-in-github",
        "colab_type": "text"
      },
      "source": [
        "<a href=\"https://colab.research.google.com/github/A109260099/Computational-thinking/blob/master/%E7%8E%8B%E6%9F%8F%E6%99%BAweek9_1.ipynb\" target=\"_parent\"><img src=\"https://colab.research.google.com/assets/colab-badge.svg\" alt=\"Open In Colab\"/></a>"
      ]
    },
    {
      "cell_type": "code",
      "metadata": {
        "id": "OSqqpugfY6-U",
        "outputId": "ffbdc280-15f8-4e5a-ecfc-1dcc2804e2c1",
        "colab": {
          "base_uri": "https://localhost:8080/"
        }
      },
      "source": [
        "#變數賦值\n",
        "x=2\n",
        "y=5\n",
        "##等號的左邊有什麼規定\n",
        "##等號的右邊有什麼規定\n",
        "##等號可以做什麼\n",
        "\n",
        "#數字資料做運算\n",
        "##加減乘除 商數餘數次方\n",
        "##運算順序\n",
        "print(x + y)\n",
        "print(x - y)\n",
        "print(x * y)\n",
        "print(x / y)\n",
        "print(x // y)\n",
        "print(x % y)\n",
        "print(x ** y)"
      ],
      "execution_count": 1,
      "outputs": [
        {
          "output_type": "stream",
          "text": [
            "7\n",
            "-3\n",
            "10\n",
            "0.4\n",
            "0\n",
            "2\n",
            "32\n"
          ],
          "name": "stdout"
        }
      ]
    },
    {
      "cell_type": "code",
      "metadata": {
        "id": "JvVTcs1CZpsV"
      },
      "source": [
        "1 # 準備輸入輸出\n",
        "2 # input()函數\n",
        "3 # print()函數"
      ],
      "execution_count": null,
      "outputs": []
    },
    {
      "cell_type": "markdown",
      "metadata": {
        "id": "N8B3MAicaTka"
      },
      "source": [
        "標準輸入輸出\n",
        "# input()函數\n",
        "# print()函數"
      ]
    },
    {
      "cell_type": "code",
      "metadata": {
        "id": "wuVfz-KhagZW",
        "outputId": "f1eae981-5edf-4aa2-a67e-93bb1323dbfb",
        "colab": {
          "base_uri": "https://localhost:8080/",
          "height": 52
        }
      },
      "source": [
        " input()"
      ],
      "execution_count": 9,
      "outputs": [
        {
          "output_type": "stream",
          "text": [
            "3\n"
          ],
          "name": "stdout"
        },
        {
          "output_type": "execute_result",
          "data": {
            "application/vnd.google.colaboratory.intrinsic+json": {
              "type": "string"
            },
            "text/plain": [
              "'3'"
            ]
          },
          "metadata": {
            "tags": []
          },
          "execution_count": 9
        }
      ]
    },
    {
      "cell_type": "code",
      "metadata": {
        "id": "jLzMRpEkba6F",
        "outputId": "71c610b7-e777-481f-fe7c-37586fc0b382",
        "colab": {
          "base_uri": "https://localhost:8080/",
          "height": 52
        }
      },
      "source": [
        " input(\"請輸入數字\")"
      ],
      "execution_count": 10,
      "outputs": [
        {
          "output_type": "stream",
          "text": [
            "請輸入數字3\n"
          ],
          "name": "stdout"
        },
        {
          "output_type": "execute_result",
          "data": {
            "application/vnd.google.colaboratory.intrinsic+json": {
              "type": "string"
            },
            "text/plain": [
              "'3'"
            ]
          },
          "metadata": {
            "tags": []
          },
          "execution_count": 10
        }
      ]
    },
    {
      "cell_type": "code",
      "metadata": {
        "id": "imAeZhY-btMT",
        "outputId": "fd5bc34d-7aef-49e1-84c0-11c09b211b91",
        "colab": {
          "base_uri": "https://localhost:8080/"
        }
      },
      "source": [
        " x=input(\"請輸入數字?\")"
      ],
      "execution_count": 13,
      "outputs": [
        {
          "output_type": "stream",
          "text": [
            "請輸入數字?3\n"
          ],
          "name": "stdout"
        }
      ]
    },
    {
      "cell_type": "code",
      "metadata": {
        "id": "JmJSJveHcBlw",
        "outputId": "bdf75862-5479-4f51-b766-3da40cc4eca4",
        "colab": {
          "base_uri": "https://localhost:8080/",
          "height": 35
        }
      },
      "source": [
        " x"
      ],
      "execution_count": 14,
      "outputs": [
        {
          "output_type": "execute_result",
          "data": {
            "application/vnd.google.colaboratory.intrinsic+json": {
              "type": "string"
            },
            "text/plain": [
              "'3'"
            ]
          },
          "metadata": {
            "tags": []
          },
          "execution_count": 14
        }
      ]
    },
    {
      "cell_type": "code",
      "metadata": {
        "id": "i0Ytss9DcEZR",
        "outputId": "ecca2a21-5963-43e9-b89e-47e8e6badd9d",
        "colab": {
          "base_uri": "https://localhost:8080/"
        }
      },
      "source": [
        " print(x)"
      ],
      "execution_count": 15,
      "outputs": [
        {
          "output_type": "stream",
          "text": [
            "3\n"
          ],
          "name": "stdout"
        }
      ]
    },
    {
      "cell_type": "code",
      "metadata": {
        "id": "MjPp34ICcIPX",
        "outputId": "9edb270a-2034-4f84-d2fa-652f9e8c024d",
        "colab": {
          "base_uri": "https://localhost:8080/"
        }
      },
      "source": [
        " print(x,2,\"python\")"
      ],
      "execution_count": 16,
      "outputs": [
        {
          "output_type": "stream",
          "text": [
            "3 2 python\n"
          ],
          "name": "stdout"
        }
      ]
    },
    {
      "cell_type": "code",
      "metadata": {
        "id": "BtYXDZ8odrJ2",
        "outputId": "630eb640-33cc-4d6f-e7bf-d4cee781ce6a",
        "colab": {
          "base_uri": "https://localhost:8080/"
        }
      },
      "source": [
        " x = input(\"請輸入上衣的數量?\" )"
      ],
      "execution_count": 21,
      "outputs": [
        {
          "output_type": "stream",
          "text": [
            "請輸入上衣的數量?5\n"
          ],
          "name": "stdout"
        }
      ]
    },
    {
      "cell_type": "code",
      "metadata": {
        "id": "RTzSTh46eEe5"
      },
      "source": [
        " x = int (x)"
      ],
      "execution_count": 45,
      "outputs": []
    },
    {
      "cell_type": "code",
      "metadata": {
        "id": "Jko1r1GYeQIj"
      },
      "source": [
        " Total = 300 * x"
      ],
      "execution_count": 30,
      "outputs": []
    },
    {
      "cell_type": "code",
      "metadata": {
        "id": "g8KACCWueVwC",
        "outputId": "ffc01ba1-7551-4b62-ad13-eeeaff12b157",
        "colab": {
          "base_uri": "https://localhost:8080/"
        }
      },
      "source": [
        " print(Total)"
      ],
      "execution_count": 46,
      "outputs": [
        {
          "output_type": "stream",
          "text": [
            "1500\n"
          ],
          "name": "stdout"
        }
      ]
    },
    {
      "cell_type": "code",
      "metadata": {
        "id": "pCr-gllCfo3g",
        "outputId": "3030d436-195c-48fc-ec5a-4e7ac835771a",
        "colab": {
          "base_uri": "https://localhost:8080/"
        }
      },
      "source": [
        "x =int(input(\"請輸入上衣的數量?\"))\n",
        "Total = 300 * x\n",
        "print(Total)"
      ],
      "execution_count": 44,
      "outputs": [
        {
          "output_type": "stream",
          "text": [
            "請輸入上衣的數量?5\n",
            "1500\n"
          ],
          "name": "stdout"
        }
      ]
    },
    {
      "cell_type": "code",
      "metadata": {
        "id": "hFA7T7swg_-A",
        "outputId": "9b6b0dfd-c415-4ea2-c3c0-9be46d844286",
        "colab": {
          "base_uri": "https://localhost:8080/"
        }
      },
      "source": [
        "Cans = int(input(\"請輸入購買的飲料罐數?\"))\n",
        "Total =(Cans//12)*200 +(Cans%12)*20\n",
        "print (\"需花費\",Total)"
      ],
      "execution_count": 48,
      "outputs": [
        {
          "output_type": "stream",
          "text": [
            "請輸入購買的飲料罐數?30\n",
            "需花費 520\n"
          ],
          "name": "stdout"
        }
      ]
    },
    {
      "cell_type": "code",
      "metadata": {
        "id": "Ux3gRqPriAsk",
        "outputId": "b5a6466e-98fb-4e82-979f-680c9c8a1a82",
        "colab": {
          "base_uri": "https://localhost:8080/"
        }
      },
      "source": [
        "first = int(input(\"請輸入第一次期中考成績?\"))\n",
        "second = int(input(\"請輸入第二次期中考成績?\"))\n",
        "final = int(input(\"請輸入期末考成績?\"))\n",
        "total = first + second + final\n",
        "average = total / 3\n",
        "print(\"總分為\", total ,\"平均為\", average)"
      ],
      "execution_count": 49,
      "outputs": [
        {
          "output_type": "stream",
          "text": [
            "請輸入第一次期中考成績?75\n",
            "請輸入第二次期中考成績?80\n",
            "請輸入期末考成績?65\n",
            "總分為 220 平均為 73.33333333333333\n"
          ],
          "name": "stdout"
        }
      ]
    }
  ]
}