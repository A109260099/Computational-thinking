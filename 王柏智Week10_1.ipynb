{
  "nbformat": 4,
  "nbformat_minor": 0,
  "metadata": {
    "colab": {
      "name": "王柏智Week10-1.ipynb",
      "provenance": [],
      "authorship_tag": "ABX9TyOdzcs1z9Q0D2erfNuuerHq",
      "include_colab_link": true
    },
    "kernelspec": {
      "name": "python3",
      "display_name": "Python 3"
    }
  },
  "cells": [
    {
      "cell_type": "markdown",
      "metadata": {
        "id": "view-in-github",
        "colab_type": "text"
      },
      "source": [
        "<a href=\"https://colab.research.google.com/github/A109260099/Computational-thinking/blob/master/%E7%8E%8B%E6%9F%8F%E6%99%BAWeek10_1.ipynb\" target=\"_parent\"><img src=\"https://colab.research.google.com/assets/colab-badge.svg\" alt=\"Open In Colab\"/></a>"
      ]
    },
    {
      "cell_type": "code",
      "metadata": {
        "colab": {
          "base_uri": "https://localhost:8080/"
        },
        "id": "867sRNTURrUd",
        "outputId": "825dca88-a3fa-490f-836d-768ab9d70b37"
      },
      "source": [
        "movie_title=\"money ball\"\n",
        "release_year=\"2011\"\n",
        "movie_rating=\"7.6\"\n",
        "stars_1=\"brad pitt\"\n",
        "director=\"bennett miller\"\n",
        "print(\"電影英文名稱\",movie_title)\n",
        "print(\"電影年分\",release_year)\n",
        "print(\"電影評分\",movie_rating)\n",
        "print(\"電影第一主角\",stars_1)\n",
        "print(\"電影導演\",director)"
      ],
      "execution_count": 4,
      "outputs": [
        {
          "output_type": "stream",
          "text": [
            "電影英文名稱 money ball\n",
            "電影年分 2011\n",
            "電影評分 7.6\n",
            "電影第一主角 brad pitt\n",
            "電影導演 bennett miller\n"
          ],
          "name": "stdout"
        }
      ]
    }
  ]
}