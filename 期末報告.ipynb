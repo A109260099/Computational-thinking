{
  "nbformat": 4,
  "nbformat_minor": 0,
  "metadata": {
    "colab": {
      "name": "期末報告.ipynb",
      "provenance": [],
      "authorship_tag": "ABX9TyO8NIqR6YD1zYOiHv66d3uW",
      "include_colab_link": true
    },
    "kernelspec": {
      "name": "python3",
      "display_name": "Python 3"
    }
  },
  "cells": [
    {
      "cell_type": "markdown",
      "metadata": {
        "id": "view-in-github",
        "colab_type": "text"
      },
      "source": [
        "<a href=\"https://colab.research.google.com/github/A109260099/Computational-thinking/blob/master/%E6%9C%9F%E6%9C%AB%E5%A0%B1%E5%91%8A.ipynb\" target=\"_parent\"><img src=\"https://colab.research.google.com/assets/colab-badge.svg\" alt=\"Open In Colab\"/></a>"
      ]
    },
    {
      "cell_type": "code",
      "metadata": {
        "colab": {
          "base_uri": "https://localhost:8080/"
        },
        "id": "999ZP5FNzrbp",
        "outputId": "ee985631-fba1-4ad6-f1d7-8db5cacf05da"
      },
      "source": [
        "# 打招呼,取得對方名字\r\n",
        "print(\"哈囉,大家好。我是DLYARR,是一個聊天機器人。\")\r\n",
        "hobby = \"我很喜歡上運算思維課程。\"\r\n",
        "print( hobby )\r\n",
        "for n in range(6):\r\n",
        "  names = input(\"嗨!妳好,請問大名?: \")\r\n",
        "  print(\"我叫DLYARR\")\r\n",
        "  print(\"你好\", names, \"很高興認識你\") \r\n",
        "for i in range(6):\r\n",
        "  print(\"Hello DLYARR!\")"
      ],
      "execution_count": 21,
      "outputs": [
        {
          "output_type": "stream",
          "text": [
            "哈囉,大家好。我是DLYARR,是一個聊天機器人。\n",
            "我很喜歡上運算思維課程。\n",
            "嗨!妳好,請問大名?: 王柏智\n",
            "我叫DLYARR\n",
            "你好 王柏智 很高興認識你\n",
            "嗨!妳好,請問大名?: 簡佑竹\n",
            "我叫DLYARR\n",
            "你好 簡佑竹 很高興認識你\n",
            "嗨!妳好,請問大名?: 林秉睿\n",
            "我叫DLYARR\n",
            "你好 林秉睿 很高興認識你\n",
            "嗨!妳好,請問大名?: 蔡宜玲\n",
            "我叫DLYARR\n",
            "你好 蔡宜玲 很高興認識你\n",
            "嗨!妳好,請問大名?: 呂昕靜\n",
            "我叫DLYARR\n",
            "你好 呂昕靜 很高興認識你\n",
            "嗨!妳好,請問大名?: 黃佩筑\n",
            "我叫DLYARR\n",
            "你好 黃佩筑 很高興認識你\n",
            "Hello DLYARR!\n",
            "Hello DLYARR!\n",
            "Hello DLYARR!\n",
            "Hello DLYARR!\n",
            "Hello DLYARR!\n",
            "Hello DLYARR!\n"
          ],
          "name": "stdout"
        }
      ]
    },
    {
      "cell_type": "code",
      "metadata": {
        "id": "8KKuoJOD6aFq",
        "colab": {
          "base_uri": "https://localhost:8080/"
        },
        "outputId": "66a98b71-34d7-4b1d-ea51-b6a20d5d3b1f"
      },
      "source": [
        "#心情如何\r\n",
        "feeling = input(\"你今天心情如何?; \")\r\n",
        "print(\"告訴我你現在\", feeling, \"的原因。 \")\r\n",
        "reason = input(\"為什麼: \")\r\n",
        "print(\"我知道了。謝謝分享。\")\r\n"
      ],
      "execution_count": 22,
      "outputs": [
        {
          "output_type": "stream",
          "text": [
            "你今天心情如何?; 很不好\n",
            "告訴我你現在 很不好 的原因。 \n",
            "為什麼: 因為很冷\n",
            "我知道了。謝謝分享。\n"
          ],
          "name": "stdout"
        }
      ]
    }
  ]
}