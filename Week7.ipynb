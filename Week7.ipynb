{
  "nbformat": 4,
  "nbformat_minor": 0,
  "metadata": {
    "colab": {
      "name": "Week7.ipynb",
      "provenance": [],
      "authorship_tag": "ABX9TyPd9LEcDknAlw3ugb/mlTvX",
      "include_colab_link": true
    },
    "kernelspec": {
      "name": "python3",
      "display_name": "Python 3"
    }
  },
  "cells": [
    {
      "cell_type": "markdown",
      "metadata": {
        "id": "view-in-github",
        "colab_type": "text"
      },
      "source": [
        "<a href=\"https://colab.research.google.com/github/A109260099/Computational-thinking/blob/master/Week7.ipynb\" target=\"_parent\"><img src=\"https://colab.research.google.com/assets/colab-badge.svg\" alt=\"Open In Colab\"/></a>"
      ]
    },
    {
      "cell_type": "code",
      "metadata": {
        "id": "ImA4he-FOTVU",
        "outputId": "3a38a486-f46e-4e66-9689-47551f59557c",
        "colab": {
          "base_uri": "https://localhost:8080/"
        }
      },
      "source": [
        "N1=90\n",
        "N2=15\n",
        "magic_number=(N1**15)%N2+333\n",
        "print(magic_number)"
      ],
      "execution_count": 1,
      "outputs": [
        {
          "output_type": "stream",
          "text": [
            "333\n"
          ],
          "name": "stdout"
        }
      ]
    }
  ]
}