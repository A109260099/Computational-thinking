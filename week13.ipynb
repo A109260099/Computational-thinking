{
  "nbformat": 4,
  "nbformat_minor": 0,
  "metadata": {
    "colab": {
      "name": "week13.ipynb",
      "provenance": [],
      "authorship_tag": "ABX9TyMv07HjC9XqgUxjBb2/2bFu",
      "include_colab_link": true
    },
    "kernelspec": {
      "name": "python3",
      "display_name": "Python 3"
    }
  },
  "cells": [
    {
      "cell_type": "markdown",
      "metadata": {
        "id": "view-in-github",
        "colab_type": "text"
      },
      "source": [
        "<a href=\"https://colab.research.google.com/github/A109260099/Computational-thinking/blob/master/week13.ipynb\" target=\"_parent\"><img src=\"https://colab.research.google.com/assets/colab-badge.svg\" alt=\"Open In Colab\"/></a>"
      ]
    },
    {
      "cell_type": "code",
      "metadata": {
        "colab": {
          "base_uri": "https://localhost:8080/"
        },
        "id": "_w1Q0tsnn7Wm",
        "outputId": "f594f30d-61e9-4422-ee9c-cf76481557cd"
      },
      "source": [
        "for i in range(0,5,1):\r\n",
        " print(\"Hello\")"
      ],
      "execution_count": 1,
      "outputs": [
        {
          "output_type": "stream",
          "text": [
            "Hello\n",
            "Hello\n",
            "Hello\n",
            "Hello\n",
            "Hello\n"
          ],
          "name": "stdout"
        }
      ]
    },
    {
      "cell_type": "code",
      "metadata": {
        "colab": {
          "base_uri": "https://localhost:8080/"
        },
        "id": "G9BY1Wf_pYjW",
        "outputId": "3e5f47b0-38e7-4010-95ac-41dd171416ed"
      },
      "source": [
        "for i in range(100, 90, -3):\r\n",
        " print(i)"
      ],
      "execution_count": 2,
      "outputs": [
        {
          "output_type": "stream",
          "text": [
            "100\n",
            "97\n",
            "94\n",
            "91\n"
          ],
          "name": "stdout"
        }
      ]
    },
    {
      "cell_type": "code",
      "metadata": {
        "colab": {
          "base_uri": "https://localhost:8080/"
        },
        "id": "3qQbXsIGsfix",
        "outputId": "0f210d19-b25d-4153-d477-494e6f5191b8"
      },
      "source": [
        "sum = 0\r\n",
        "for i in range(1, 11, 2):\r\n",
        " sum = sum + i \r\n",
        "print(\"Total is\", sum)"
      ],
      "execution_count": 4,
      "outputs": [
        {
          "output_type": "stream",
          "text": [
            "Total is 25\n"
          ],
          "name": "stdout"
        }
      ]
    },
    {
      "cell_type": "code",
      "metadata": {
        "colab": {
          "base_uri": "https://localhost:8080/"
        },
        "id": "uTAMN4gAztIF",
        "outputId": "9c0c54a0-f597-47b5-b4ad-b21d938db74d"
      },
      "source": [
        "sum = 0\r\n",
        "for i in range(1, 6, 1):\r\n",
        " sum = sum + i*i \r\n",
        "print('total ', sum)"
      ],
      "execution_count": 6,
      "outputs": [
        {
          "output_type": "stream",
          "text": [
            "total  55\n"
          ],
          "name": "stdout"
        }
      ]
    }
  ]
}